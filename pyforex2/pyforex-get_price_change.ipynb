{
 "cells": [
  {
   "cell_type": "code",
   "execution_count": 1,
   "id": "c778646d-1cda-4769-96ab-fa94d55de69a",
   "metadata": {},
   "outputs": [],
   "source": [
    "import numpy as np\n",
    "\n",
    "def get_price_change(values, column_range, span):\n",
    "    row_count = len(values)\n",
    "    #vector = ((values[:-span] - values[span:]) / values[:-span]) * 100.0 * 60.0 / span\n",
    "    vector = 2 * values[span:] - values[:-span]\n",
    "    return stride_vectors(vector, row_count, column_range, span)"
   ]
  },
  {
   "cell_type": "code",
   "execution_count": 2,
   "id": "2b966634-107a-47f9-8fb2-7a7384dcbad2",
   "metadata": {},
   "outputs": [],
   "source": [
    "def stride_vectors(vector, row_count, column_range, span):\n",
    "    print(f\"vector = {vector.shape}\")\n",
    "    print(f\"vector = {vector}\")\n",
    "    shape = (row_count - (2 * span + 2), len(column_range))\n",
    "    strides = (vector.strides[0], vector.strides[0])\n",
    "    matrix = np.lib.stride_tricks.as_strided(vector, shape=shape, strides=strides)\n",
    "    print(f\"matrix = {matrix.shape}\")\n",
    "    return matrix"
   ]
  },
  {
   "cell_type": "code",
   "execution_count": 3,
   "id": "6a751c63-1751-4e9a-bd79-133b3bbb1a20",
   "metadata": {},
   "outputs": [],
   "source": [
    "values = np.array(range(1, 1000, 4))"
   ]
  },
  {
   "cell_type": "code",
   "execution_count": 4,
   "id": "ada8f867-1ac1-48a2-bdf1-3a55405e78bc",
   "metadata": {},
   "outputs": [
    {
     "data": {
      "text/plain": [
       "array([  1,   5,   9,  13,  17,  21,  25,  29,  33,  37,  41,  45,  49,\n",
       "        53,  57,  61,  65,  69,  73,  77,  81,  85,  89,  93,  97, 101,\n",
       "       105, 109, 113, 117, 121, 125, 129, 133, 137, 141, 145, 149, 153,\n",
       "       157, 161, 165, 169, 173, 177, 181, 185, 189, 193, 197, 201, 205,\n",
       "       209, 213, 217, 221, 225, 229, 233, 237, 241, 245, 249, 253, 257,\n",
       "       261, 265, 269, 273, 277, 281, 285, 289, 293, 297, 301, 305, 309,\n",
       "       313, 317, 321, 325, 329, 333, 337, 341, 345, 349, 353, 357, 361,\n",
       "       365, 369, 373, 377, 381, 385, 389, 393, 397, 401, 405, 409, 413,\n",
       "       417, 421, 425, 429, 433, 437, 441, 445, 449, 453, 457, 461, 465,\n",
       "       469, 473, 477, 481, 485, 489, 493, 497, 501, 505, 509, 513, 517,\n",
       "       521, 525, 529, 533, 537, 541, 545, 549, 553, 557, 561, 565, 569,\n",
       "       573, 577, 581, 585, 589, 593, 597, 601, 605, 609, 613, 617, 621,\n",
       "       625, 629, 633, 637, 641, 645, 649, 653, 657, 661, 665, 669, 673,\n",
       "       677, 681, 685, 689, 693, 697, 701, 705, 709, 713, 717, 721, 725,\n",
       "       729, 733, 737, 741, 745, 749, 753, 757, 761, 765, 769, 773, 777,\n",
       "       781, 785, 789, 793, 797, 801, 805, 809, 813, 817, 821, 825, 829,\n",
       "       833, 837, 841, 845, 849, 853, 857, 861, 865, 869, 873, 877, 881,\n",
       "       885, 889, 893, 897, 901, 905, 909, 913, 917, 921, 925, 929, 933,\n",
       "       937, 941, 945, 949, 953, 957, 961, 965, 969, 973, 977, 981, 985,\n",
       "       989, 993, 997])"
      ]
     },
     "execution_count": 4,
     "metadata": {},
     "output_type": "execute_result"
    }
   ],
   "source": [
    "values"
   ]
  },
  {
   "cell_type": "code",
   "execution_count": 5,
   "id": "bab3c80c-2856-4a25-9587-9ae42e2d4f11",
   "metadata": {},
   "outputs": [
    {
     "name": "stdout",
     "output_type": "stream",
     "text": [
      "values = (250,)\n"
     ]
    }
   ],
   "source": [
    "print(f\"values = {values.shape}\")"
   ]
  },
  {
   "cell_type": "code",
   "execution_count": 6,
   "id": "33c619f6-1238-4f92-b437-5f3c0b011efb",
   "metadata": {},
   "outputs": [],
   "source": [
    "MINUTE_BARS = 2\n",
    "bar_count = 10\n",
    "column_range_minutes = range(1, bar_count + 1, MINUTE_BARS)"
   ]
  },
  {
   "cell_type": "code",
   "execution_count": 7,
   "id": "b73a8d32-12b7-4fcd-bb34-00a6a5c7b573",
   "metadata": {},
   "outputs": [
    {
     "name": "stdout",
     "output_type": "stream",
     "text": [
      "vector = (248,)\n",
      "vector = [  17   21   25   29   33   37   41   45   49   53   57   61   65   69\n",
      "   73   77   81   85   89   93   97  101  105  109  113  117  121  125\n",
      "  129  133  137  141  145  149  153  157  161  165  169  173  177  181\n",
      "  185  189  193  197  201  205  209  213  217  221  225  229  233  237\n",
      "  241  245  249  253  257  261  265  269  273  277  281  285  289  293\n",
      "  297  301  305  309  313  317  321  325  329  333  337  341  345  349\n",
      "  353  357  361  365  369  373  377  381  385  389  393  397  401  405\n",
      "  409  413  417  421  425  429  433  437  441  445  449  453  457  461\n",
      "  465  469  473  477  481  485  489  493  497  501  505  509  513  517\n",
      "  521  525  529  533  537  541  545  549  553  557  561  565  569  573\n",
      "  577  581  585  589  593  597  601  605  609  613  617  621  625  629\n",
      "  633  637  641  645  649  653  657  661  665  669  673  677  681  685\n",
      "  689  693  697  701  705  709  713  717  721  725  729  733  737  741\n",
      "  745  749  753  757  761  765  769  773  777  781  785  789  793  797\n",
      "  801  805  809  813  817  821  825  829  833  837  841  845  849  853\n",
      "  857  861  865  869  873  877  881  885  889  893  897  901  905  909\n",
      "  913  917  921  925  929  933  937  941  945  949  953  957  961  965\n",
      "  969  973  977  981  985  989  993  997 1001 1005]\n",
      "matrix = (244, 5)\n"
     ]
    }
   ],
   "source": [
    "matrix = get_price_change(values, column_range_minutes, MINUTE_BARS)"
   ]
  },
  {
   "cell_type": "code",
   "execution_count": 8,
   "id": "9fc9b7cf-a6e6-436a-b67c-90f21f7d042f",
   "metadata": {},
   "outputs": [
    {
     "data": {
      "text/plain": [
       "array([[  17,   21,   25,   29,   33],\n",
       "       [  21,   25,   29,   33,   37],\n",
       "       [  25,   29,   33,   37,   41],\n",
       "       ...,\n",
       "       [ 981,  985,  989,  993,  997],\n",
       "       [ 985,  989,  993,  997, 1001],\n",
       "       [ 989,  993,  997, 1001, 1005]])"
      ]
     },
     "execution_count": 8,
     "metadata": {},
     "output_type": "execute_result"
    }
   ],
   "source": [
    "matrix"
   ]
  },
  {
   "cell_type": "code",
   "execution_count": null,
   "id": "b937f67f-0e6b-4d85-abb8-8c76742e14e0",
   "metadata": {},
   "outputs": [],
   "source": []
  }
 ],
 "metadata": {
  "kernelspec": {
   "display_name": "Python 3 (ipykernel)",
   "language": "python",
   "name": "python3"
  },
  "language_info": {
   "codemirror_mode": {
    "name": "ipython",
    "version": 3
   },
   "file_extension": ".py",
   "mimetype": "text/x-python",
   "name": "python",
   "nbconvert_exporter": "python",
   "pygments_lexer": "ipython3",
   "version": "3.9.18"
  }
 },
 "nbformat": 4,
 "nbformat_minor": 5
}
